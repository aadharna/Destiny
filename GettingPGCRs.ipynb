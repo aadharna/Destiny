{
 "cells": [
  {
   "cell_type": "markdown",
   "metadata": {},
   "source": [
    "## Getting PostGameCarnageReports (PGCRs) from Destiny"
   ]
  },
  {
   "cell_type": "markdown",
   "metadata": {},
   "source": [
    "### Step Zero\n",
    "\n",
    "In order for this to work, you need to first request an API-Key from Bungie.net\n",
    "\n",
    "I have included my own key commented out; however, I would prefer if you did not use that and instead got your own. \n",
    "\n",
    "You can do so here: http://destinyapiguide.azurewebsites.net/getKey"
   ]
  },
  {
   "cell_type": "markdown",
   "metadata": {},
   "source": [
    "### First Step -- dependencies and imports\n",
    "\n",
    "    1) Pandas (to make use of the DataFrame)\n",
    "    \n",
    "    2) requests (to call Bungie's API)\n",
    "    \n",
    "    3) deepcopy (from copy)\n",
    "    \n",
    "    4) MatchClass (a custom class to hold the data from each match we call)\n"
   ]
  },
  {
   "cell_type": "code",
   "execution_count": 6,
   "metadata": {
    "collapsed": true
   },
   "outputs": [],
   "source": [
    "import pandas as pd\n",
    "import requests\n",
    "from copy import deepcopy\n",
    "import MatchClass as MC"
   ]
  },
  {
   "cell_type": "markdown",
   "metadata": {},
   "source": [
    "### Second Step -- global variables"
   ]
  },
  {
   "cell_type": "code",
   "execution_count": 12,
   "metadata": {
    "collapsed": true
   },
   "outputs": [],
   "source": [
    "#Used in the combineTypeKills function -- enumerates all possible ways for a player to kill another player \n",
    "# another player and compresses that data into 4 features\n",
    "\n",
    "weaponTypes = {}\n",
    "weaponTypes[\"primary\"] = [\"weaponKillsAutoRifle\", \"weaponKillsScoutRifle\", \"weaponKillsHandCannon\", \"weaponKillsPulseRifle\"]\n",
    "weaponTypes[\"secondary\"] = [\"weaponKillsSniperRifle\", \"weaponKillsFusionRifle\", \"weaponKillsShotgun\", \"weaponKillsSidearm\"]\n",
    "weaponTypes[\"heavy\"] = [\"weaponKillsRocketLauncher\", \"weaponKillsMachineGun\", \"weaponKillsSwords\"]\n",
    "weaponTypes[\"other\"] = [\"weaponKillsGrenade\", \"weaponKillsSuper\", \"weaponKillsMelee\"]\n",
    "\n",
    "# The grouping of weapon types is Bungie's grouping where AutoRifles (automatic weapons), Scout Rifles (single fire weapons), \n",
    "# Hand Cannons (revolvers), and Pulse Rifles (burst fire weapons) are all grouped together in a slot called 'Primary'\n",
    "# Likewise for the other 2 weapon types. \n",
    "\n",
    "# I chose to combine Grenades, Supers (one shot kills), and melee kills into one metric due to the ability-based and \n",
    "# miscellaneous nature of each of these killing methods.\n",
    "\n",
    "\n",
    "Kernaldf = pd.read_csv(\"batch2.csv\") #Reads in 50,000 incomplete Destiny Matche records\n",
    "\n",
    "dflist = Kernaldf['instanceId'].tolist()    #We only care about the matchID so we save that to \n",
    "                                            #use as the seed to call complete matches\n",
    "    \n",
    "matches = [] #list to hold all of our matches\n",
    "temp = None #used to hold data temporarily before being pushed to \"matches\""
   ]
  },
  {
   "cell_type": "markdown",
   "metadata": {},
   "source": [
    "### Third Step -- Utility functions for later"
   ]
  },
  {
   "cell_type": "markdown",
   "metadata": {},
   "source": [
    "Up first comes a function which takes different granular data features and combines them into one larger feature"
   ]
  },
  {
   "cell_type": "code",
   "execution_count": 2,
   "metadata": {
    "collapsed": true
   },
   "outputs": [],
   "source": [
    "def combineTypeKills(PJR, i, gunType):\n",
    "\n",
    "    used = []\n",
    "    killcounter = 0\n",
    "\n",
    "    all_keys = PJR['Response']['data']['entries'][i]['extended']['values'].keys()\n",
    "\n",
    "    for guns in gunType:\n",
    "        if guns in all_keys:\n",
    "            used.append(guns)\n",
    "    #print used\n",
    "\n",
    "    for used_guns in used:\n",
    "        killcounter += PJR['Response']['data']['entries'][i]['extended']['values'][used_guns]['basic']['value']\n",
    "\n",
    "    #print counter\n",
    "    return killcounter"
   ]
  },
  {
   "cell_type": "markdown",
   "metadata": {},
   "source": [
    "Second is a function which takes all of the data we've saved in memory so far and saves it to disk as a CSV."
   ]
  },
  {
   "cell_type": "code",
   "execution_count": 3,
   "metadata": {
    "collapsed": true
   },
   "outputs": [],
   "source": [
    "def saveToDisk(matches):\n",
    "    # for sm in matches:\n",
    "    #     print sm.display()\n",
    "\n",
    "    df = pd.DataFrame.from_dict(matches[0].getMatch(), orient='index')\n",
    "\n",
    "    for i in range(1, len(matches)):\n",
    "        df = df.append(pd.DataFrame.from_dict(matches[i].getMatch(), orient='index'))\n",
    "\n",
    "    #print df.head(), df.shape\n",
    "\n",
    "    df.to_csv('batch6Udacity.csv')\n",
    "    print(df.shape)\n",
    "    del matches[:]"
   ]
  },
  {
   "cell_type": "markdown",
   "metadata": {},
   "source": [
    "### Step Four -- Pinging Bungie's API"
   ]
  },
  {
   "cell_type": "markdown",
   "metadata": {},
   "source": [
    "Insert Description of the code below and how to use it in conjuction with the matchIDs."
   ]
  },
  {
   "cell_type": "code",
   "execution_count": 11,
   "metadata": {},
   "outputs": [
    {
     "ename": "SyntaxError",
     "evalue": "invalid syntax (<ipython-input-11-131fd75c5beb>, line 9)",
     "output_type": "error",
     "traceback": [
      "\u001b[1;36m  File \u001b[1;32m\"<ipython-input-11-131fd75c5beb>\"\u001b[1;36m, line \u001b[1;32m9\u001b[0m\n\u001b[1;33m    HEADERS = {\"X-API-Key\": \"INSERT-API-KEY-HERE\")\u001b[0m\n\u001b[1;37m                                                 ^\u001b[0m\n\u001b[1;31mSyntaxError\u001b[0m\u001b[1;31m:\u001b[0m invalid syntax\n"
     ]
    }
   ],
   "source": [
    "for j in range(15000):\n",
    "    if j%5000 == 0:\n",
    "        print(\"On match \", j)\n",
    "\n",
    "    match = str(dflist[j])\n",
    "\n",
    "    PGCR_url = \"http://www.bungie.net/Platform/Destiny/Stats/PostGameCarnageReport/\" + match + \"/\"\n",
    "\n",
    "    HEADERS = {\"X-API-Key\": \"INSERT-API-KEY-HERE\")\n",
    "\n",
    "    #print(\"\\n\\n\\nConnecting to Bungie: \" + PGCR_url + \"\\n\")\n",
    "    #print(\"Fetching data for: PGCR!\")\n",
    "    res = requests.get(PGCR_url, headers=HEADERS)\n",
    "\n",
    "    totalplayerCount = int(res.json()['Response']['data']['entries'][0]['values']['playerCount']['basic']['value'])\n",
    "\n",
    "    for i in range(totalplayerCount):\n",
    "        singleMatch = MC.SingleMatch(match)\n",
    "\n",
    "        personId = res.json()['Response']['data']['entries'][i]['player']['destinyUserInfo']['membershipId']\n",
    "\n",
    "        if \"team\" not in res.json()['Response']['data']['entries'][i]['values'].keys() \\\n",
    "                or \"extended\" not in res.json()['Response']['data']['entries'][i].keys()\\\n",
    "                or \"values\" not in res.json()['Response']['data']['entries'][i].keys():\n",
    "            continue\n",
    "        else:\n",
    "            team = res.json()['Response']['data']['entries'][i]['values']['team']['basic']['displayValue']\n",
    "\n",
    "        if team == '-':\n",
    "            continue\n",
    "\n",
    "        singleMatch.addPlayer(personId)\n",
    "        singleMatch.addTeam(personId, team)\n",
    "        singleMatch.addMatchIDtoPlayers(personId)\n",
    "\n",
    "        singleMatch.addScore(personId, res.json()['Response']['data']['entries'][i]['score']['basic']['value'])\n",
    "        singleMatch.addAVGScorePerLife(personId, res.json()['Response']['data']['entries'][i]['values']['averageScorePerLife']['basic']['value'])\n",
    "        singleMatch.addKills(personId, res.json()['Response']['data']['entries'][i]['values']['kills']['basic']['value'])\n",
    "        singleMatch.addAssists(personId, res.json()['Response']['data']['entries'][i]['values']['assists']['basic']['value'])\n",
    "        singleMatch.addDeaths(personId, res.json()['Response']['data']['entries'][i]['values']['deaths']['basic']['value'])\n",
    "        singleMatch.addStanding(personId, res.json()['Response']['data']['entries'][i]['values']['standing']['basic']['value'])\n",
    "        singleMatch.addKD(personId,res.json()['Response']['data']['entries'][i]['values']['killsDeathsRatio']['basic']['value'])\n",
    "        singleMatch.addKAD(personId, res.json()['Response']['data']['entries'][i]['values']['killsDeathsAssists']['basic']['value'])\n",
    "\n",
    "        if (\"averageKillDistance\" not in res.json()['Response']['data']['entries'][i]['extended']['values'].keys()):\n",
    "            None\n",
    "        else:\n",
    "            singleMatch.addAVG_K_DIST(personId, res.json()['Response']['data']['entries'][i]['extended']['values']['averageKillDistance']['basic']['value'])\n",
    "\n",
    "        if (\"averageScorePerKill\" not in res.json()['Response']['data']['entries'][i]['extended']['values'].keys()):\n",
    "            None\n",
    "        else:\n",
    "            singleMatch.addAVGScorePerKill(personId, res.json()['Response']['data']['entries'][i]['extended']['values']['averageScorePerKill']['basic']['value'])\n",
    "\n",
    "        if (\"combatRating\" not in res.json()['Response']['data']['entries'][i]['extended']['values'].keys()):\n",
    "            None\n",
    "        else:\n",
    "            singleMatch.addCR(personId, int(res.json()['Response']['data']['entries'][i]['extended']['values']['combatRating']['basic']['value']))\n",
    "\n",
    "        singleMatch.addPrimaries(personId, combineTypeKills(res.json(), i, weaponTypes[\"primary\"]))\n",
    "        singleMatch.addSecondaries(personId, combineTypeKills(res.json(), i, weaponTypes[\"secondary\"]))\n",
    "        singleMatch.addHeavy(personId, combineTypeKills(res.json(), i, weaponTypes[\"heavy\"]))\n",
    "        singleMatch.addAbilityKills(personId, combineTypeKills(res.json(), i, weaponTypes[\"other\"]))\n",
    "\n",
    "        singleMatch.addActiveDuration(personId, int(res.json()['Response']['data']['entries'][i]['values']['activityDurationSeconds']['basic']['value']))\n",
    "        singleMatch.addCompletion(personId, res.json()['Response']['data']['entries'][i]['values']['completionReason']['basic']['value'])\n",
    "\n",
    "        if len(res.json()['Response']['data']['teams']) == 2:\n",
    "\n",
    "            if res.json()['Response']['data']['entries'][i]['values']['team']['basic']['displayValue'] == \"Alpha\":\n",
    "\n",
    "                singleMatch.addpercentContrib(personId,\n",
    "                                              singleMatch.getScore(personId),\n",
    "                                              res.json()['Response']['data']['teams'][0]['score']['basic']['value'])\n",
    "            else:\n",
    "                singleMatch.addpercentContrib(personId,\n",
    "                                              singleMatch.getScore(personId),\n",
    "                                              res.json()['Response']['data']['teams'][1]['score']['basic']['value'])\n",
    "\n",
    "        temp = deepcopy(singleMatch)\n",
    "        matches.append(temp)\n",
    "\n",
    "        # if count%5 == 0:\n",
    "        #     temp.display()\n",
    "               \n",
    "               \n",
    "               \n",
    "saveToDisk(matches)"
   ]
  },
  {
   "cell_type": "code",
   "execution_count": null,
   "metadata": {
    "collapsed": true
   },
   "outputs": [],
   "source": []
  }
 ],
 "metadata": {
  "kernelspec": {
   "display_name": "Python 3",
   "language": "python",
   "name": "python3"
  },
  "language_info": {
   "codemirror_mode": {
    "name": "ipython",
    "version": 3
   },
   "file_extension": ".py",
   "mimetype": "text/x-python",
   "name": "python",
   "nbconvert_exporter": "python",
   "pygments_lexer": "ipython3",
   "version": "3.5.3"
  }
 },
 "nbformat": 4,
 "nbformat_minor": 2
}
