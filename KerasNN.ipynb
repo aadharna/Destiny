{
 "cells": [
  {
   "cell_type": "markdown",
   "metadata": {},
   "source": [
    "This is an auto-generated notebook"
   ]
  },
  {
   "cell_type": "code",
   "execution_count": 1,
   "metadata": {},
   "outputs": [
    {
     "name": "stderr",
     "output_type": "stream",
     "text": [
      "Using TensorFlow backend.\n"
     ]
    }
   ],
   "source": [
    "import pandas as pd\n",
    "import numpy as np\n",
    "import keras as ks"
   ]
  },
  {
   "cell_type": "code",
   "execution_count": 2,
   "metadata": {
    "collapsed": true
   },
   "outputs": [],
   "source": [
    "df = pd.read_csv(\"indexByMatch_batchUdacity_205_CLEANED_NORM.csv\", index_col=\"Unnamed: 0\")\n",
    "labels = df[\"alphaVictory\"]\n",
    "df.drop(\"alphaVictory\", axis=1, inplace=True)"
   ]
  },
  {
   "cell_type": "code",
   "execution_count": 3,
   "metadata": {
    "collapsed": true
   },
   "outputs": [],
   "source": [
    "data = df.as_matrix(columns=df.columns[:])\n",
    "label = labels.as_matrix()"
   ]
  },
  {
   "cell_type": "code",
   "execution_count": 4,
   "metadata": {},
   "outputs": [
    {
     "name": "stdout",
     "output_type": "stream",
     "text": [
      "(124236, 204)\n",
      "(124236,)\n"
     ]
    }
   ],
   "source": [
    "print(data.shape)\n",
    "print(label.shape)"
   ]
  },
  {
   "cell_type": "code",
   "execution_count": 5,
   "metadata": {
    "collapsed": true
   },
   "outputs": [],
   "source": [
    "from sklearn.cross_validation import train_test_split\n",
    "\n",
    "X_train, X_test, y_train, y_test = train_test_split(data, label, test_size = 0.3, random_state=444)\n",
    "\n",
    "X_TEST, X_VALID, y_TEST, y_VALID = train_test_split(X_test, y_test, test_size = 0.33, random_state=123)"
   ]
  },
  {
   "cell_type": "code",
   "execution_count": 6,
   "metadata": {},
   "outputs": [
    {
     "name": "stdout",
     "output_type": "stream",
     "text": [
      "(86965, 204)\n",
      "(86965,)\n",
      "(24971, 204)\n",
      "(24971,)\n"
     ]
    }
   ],
   "source": [
    "print(X_train.shape)\n",
    "print(y_train.shape)\n",
    "print(X_TEST.shape)\n",
    "print(y_TEST.shape)"
   ]
  },
  {
   "cell_type": "code",
   "execution_count": null,
   "metadata": {
    "collapsed": true
   },
   "outputs": [],
   "source": []
  },
  {
   "cell_type": "code",
   "execution_count": 7,
   "metadata": {
    "collapsed": true
   },
   "outputs": [],
   "source": [
    "from keras.models import Sequential\n",
    "from keras.layers import Dense, Activation\n",
    "\n",
    "model = Sequential()\n",
    "model.add(Dense(511, activation='relu', input_dim=204))\n",
    "model.add(Dense(170, activation='relu', input_dim=511))\n",
    "model.add(Dense(1, activation='sigmoid'))\n",
    "model.compile(optimizer='rmsprop',\n",
    "              loss='binary_crossentropy',\n",
    "              metrics=['accuracy'])"
   ]
  },
  {
   "cell_type": "code",
   "execution_count": 8,
   "metadata": {
    "collapsed": true
   },
   "outputs": [],
   "source": [
    "model.compile(optimizer='adagrad',\n",
    "              loss='binary_crossentropy',\n",
    "              metrics=['accuracy'])"
   ]
  },
  {
   "cell_type": "code",
   "execution_count": 9,
   "metadata": {},
   "outputs": [
    {
     "name": "stdout",
     "output_type": "stream",
     "text": [
      "Train on 86965 samples, validate on 12300 samples\n",
      "Epoch 1/10\n",
      "86965/86965 [==============================] - 4s - loss: 0.2042 - acc: 0.9150 - val_loss: 0.1711 - val_acc: 0.9293\n",
      "Epoch 2/10\n",
      "86965/86965 [==============================] - 2s - loss: 0.1710 - acc: 0.9288 - val_loss: 0.1717 - val_acc: 0.9272\n",
      "Epoch 3/10\n",
      "86965/86965 [==============================] - 2s - loss: 0.1555 - acc: 0.9356 - val_loss: 0.1479 - val_acc: 0.9398\n",
      "Epoch 4/10\n",
      "86965/86965 [==============================] - 2s - loss: 0.1425 - acc: 0.9413 - val_loss: 0.1390 - val_acc: 0.9442\n",
      "Epoch 5/10\n",
      "86965/86965 [==============================] - 2s - loss: 0.1335 - acc: 0.9457 - val_loss: 0.1428 - val_acc: 0.9393\n",
      "Epoch 6/10\n",
      "86965/86965 [==============================] - 2s - loss: 0.1267 - acc: 0.9479 - val_loss: 0.1265 - val_acc: 0.9485\n",
      "Epoch 7/10\n",
      "86965/86965 [==============================] - 2s - loss: 0.1210 - acc: 0.9503 - val_loss: 0.1345 - val_acc: 0.9425\n",
      "Epoch 8/10\n",
      "86965/86965 [==============================] - 2s - loss: 0.1159 - acc: 0.9528 - val_loss: 0.1218 - val_acc: 0.9509\n",
      "Epoch 9/10\n",
      "86965/86965 [==============================] - 2s - loss: 0.1120 - acc: 0.9545 - val_loss: 0.1190 - val_acc: 0.9509\n",
      "Epoch 10/10\n",
      "86965/86965 [==============================] - 2s - loss: 0.1082 - acc: 0.9557 - val_loss: 0.1232 - val_acc: 0.9483\n"
     ]
    },
    {
     "data": {
      "text/plain": [
       "<keras.callbacks.History at 0x1eb2830d160>"
      ]
     },
     "execution_count": 9,
     "metadata": {},
     "output_type": "execute_result"
    }
   ],
   "source": [
    "model.fit(X_train, y_train, epochs=10, batch_size=128, validation_data=(X_VALID, y_VALID))"
   ]
  },
  {
   "cell_type": "code",
   "execution_count": 10,
   "metadata": {},
   "outputs": [
    {
     "name": "stdout",
     "output_type": "stream",
     "text": [
      "21248/24971 [========================>.....] - ETA: 0s"
     ]
    }
   ],
   "source": [
    "score = model.evaluate(X_TEST, y_TEST, batch_size=128)"
   ]
  },
  {
   "cell_type": "code",
   "execution_count": 11,
   "metadata": {},
   "outputs": [
    {
     "name": "stdout",
     "output_type": "stream",
     "text": [
      "['loss', 'acc']\n",
      "[0.12729456010197573, 0.94737895959312801]\n"
     ]
    }
   ],
   "source": [
    "print(model.metrics_names)\n",
    "print(score)"
   ]
  },
  {
   "cell_type": "code",
   "execution_count": 12,
   "metadata": {},
   "outputs": [],
   "source": [
    "# from keras.utils import plot_model\n",
    "# plot_model(model, to_file='model.png')"
   ]
  },
  {
   "cell_type": "code",
   "execution_count": 14,
   "metadata": {
    "collapsed": true
   },
   "outputs": [],
   "source": [
    "model.save(\"predictingMatchesNN.h5\")"
   ]
  },
  {
   "cell_type": "code",
   "execution_count": null,
   "metadata": {
    "collapsed": true
   },
   "outputs": [],
   "source": []
  },
  {
   "cell_type": "code",
   "execution_count": 109,
   "metadata": {
    "collapsed": true
   },
   "outputs": [],
   "source": [
    "from sklearn.metrics import confusion_matrix, classification_report"
   ]
  },
  {
   "cell_type": "code",
   "execution_count": 115,
   "metadata": {},
   "outputs": [
    {
     "name": "stdout",
     "output_type": "stream",
     "text": [
      "23040/24971 [==========================>...] - ETA: 0s"
     ]
    }
   ],
   "source": [
    "y_test_predict = model.predict(X_TEST, batch_size=128, verbose=1)"
   ]
  },
  {
   "cell_type": "code",
   "execution_count": 116,
   "metadata": {},
   "outputs": [
    {
     "name": "stdout",
     "output_type": "stream",
     "text": [
      "[[  1.29029516e-03]\n",
      " [  8.77934575e-01]\n",
      " [  6.47951439e-02]\n",
      " ..., \n",
      " [  4.00680574e-06]\n",
      " [  1.83016193e-04]\n",
      " [  9.99998212e-01]] [ 1.  0.  1. ...,  0.  1.  0.]\n"
     ]
    }
   ],
   "source": [
    "print(y_test_predict, y_test)"
   ]
  },
  {
   "cell_type": "code",
   "execution_count": 117,
   "metadata": {
    "collapsed": true
   },
   "outputs": [],
   "source": [
    "y_prob_to_class = []\n",
    "for each_value in y_test_predict:\n",
    "    if each_value[0] < 0.5:\n",
    "        y_prob_to_class.append(0)\n",
    "    else:\n",
    "        y_prob_to_class.append(1)"
   ]
  },
  {
   "cell_type": "code",
   "execution_count": 119,
   "metadata": {},
   "outputs": [
    {
     "data": {
      "text/plain": [
       "array([[11903,   669],\n",
       "       [  618, 11781]])"
      ]
     },
     "execution_count": 119,
     "metadata": {},
     "output_type": "execute_result"
    }
   ],
   "source": [
    "confusion_matrix(y_prob_to_class, y_TEST)"
   ]
  },
  {
   "cell_type": "code",
   "execution_count": 121,
   "metadata": {},
   "outputs": [
    {
     "name": "stdout",
     "output_type": "stream",
     "text": [
      "             precision    recall  f1-score   support\n",
      "\n",
      "          0       0.95      0.95      0.95     12572\n",
      "          1       0.95      0.95      0.95     12399\n",
      "\n",
      "avg / total       0.95      0.95      0.95     24971\n",
      "\n"
     ]
    }
   ],
   "source": [
    "print(classification_report(y_prob_to_class, y_TEST))"
   ]
  },
  {
   "cell_type": "code",
   "execution_count": null,
   "metadata": {
    "collapsed": true
   },
   "outputs": [],
   "source": []
  }
 ],
 "metadata": {
  "kernelspec": {
   "display_name": "Python 3",
   "language": "python",
   "name": "python3"
  },
  "language_info": {
   "codemirror_mode": {
    "name": "ipython",
    "version": 3
   },
   "file_extension": ".py",
   "mimetype": "text/x-python",
   "name": "python",
   "nbconvert_exporter": "python",
   "pygments_lexer": "ipython3",
   "version": "3.5.3"
  }
 },
 "nbformat": 4,
 "nbformat_minor": 2
}
