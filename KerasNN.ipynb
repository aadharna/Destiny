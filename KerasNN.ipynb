{
 "cells": [
  {
   "cell_type": "markdown",
   "metadata": {},
   "source": [
    "This is an auto-generated notebook"
   ]
  },
  {
   "cell_type": "code",
   "execution_count": 1,
   "metadata": {},
   "outputs": [
    {
     "name": "stderr",
     "output_type": "stream",
     "text": [
      "Using TensorFlow backend.\n"
     ]
    }
   ],
   "source": [
    "import pandas as pd\n",
    "import numpy as np\n",
    "import keras as ks\n",
    "from keras.callbacks import TensorBoard\n",
    "%matplotlib inline\n",
    "import matplotlib.pyplot as plt"
   ]
  },
  {
   "cell_type": "code",
   "execution_count": 2,
   "metadata": {
    "collapsed": true
   },
   "outputs": [],
   "source": [
    "df = pd.read_csv(\"indexByMatch_batchUdacity_205_CLEANED_NORM.csv\", index_col=\"Unnamed: 0\")\n",
    "labels = df[\"alphaVictory\"]\n",
    "df.drop(\"alphaVictory\", axis=1, inplace=True)"
   ]
  },
  {
   "cell_type": "code",
   "execution_count": 3,
   "metadata": {
    "collapsed": true
   },
   "outputs": [],
   "source": [
    "data = df.as_matrix(columns=df.columns[:])\n",
    "label = labels.as_matrix()"
   ]
  },
  {
   "cell_type": "code",
   "execution_count": 4,
   "metadata": {},
   "outputs": [
    {
     "name": "stdout",
     "output_type": "stream",
     "text": [
      "(124236, 204)\n",
      "(124236,)\n"
     ]
    }
   ],
   "source": [
    "print(data.shape)\n",
    "print(label.shape)"
   ]
  },
  {
   "cell_type": "code",
   "execution_count": 5,
   "metadata": {
    "collapsed": true
   },
   "outputs": [],
   "source": [
    "from sklearn.cross_validation import train_test_split\n",
    "\n",
    "X_train, X_test, y_train, y_test = train_test_split(data, label, test_size = 0.3, random_state=444)\n",
    "\n",
    "X_TEST, X_VALID, y_TEST, y_VALID = train_test_split(X_test, y_test, test_size = 0.33, random_state=123)"
   ]
  },
  {
   "cell_type": "code",
   "execution_count": 6,
   "metadata": {},
   "outputs": [
    {
     "name": "stdout",
     "output_type": "stream",
     "text": [
      "(86965, 204)\n",
      "(86965,)\n",
      "(24971, 204)\n",
      "(24971,)\n"
     ]
    }
   ],
   "source": [
    "print(X_train.shape)\n",
    "print(y_train.shape)\n",
    "print(X_TEST.shape)\n",
    "print(y_TEST.shape)"
   ]
  },
  {
   "cell_type": "code",
   "execution_count": null,
   "metadata": {
    "collapsed": true
   },
   "outputs": [],
   "source": []
  },
  {
   "cell_type": "code",
   "execution_count": 7,
   "metadata": {
    "collapsed": true
   },
   "outputs": [],
   "source": [
    "tbCallBack = TensorBoard(log_dir='./Graph', histogram_freq=0, write_graph=True, write_images=True)"
   ]
  },
  {
   "cell_type": "code",
   "execution_count": null,
   "metadata": {
    "collapsed": true
   },
   "outputs": [],
   "source": []
  },
  {
   "cell_type": "code",
   "execution_count": 8,
   "metadata": {
    "collapsed": true
   },
   "outputs": [],
   "source": [
    "from keras.models import Sequential\n",
    "from keras.layers import Dense, Activation\n",
    "\n",
    "model = Sequential()\n",
    "model.add(Dense(511, activation='relu', input_dim=204))\n",
    "model.add(Dense(170, activation='relu', input_dim=511))\n",
    "model.add(Dense(1, activation='sigmoid'))\n"
   ]
  },
  {
   "cell_type": "code",
   "execution_count": 9,
   "metadata": {
    "collapsed": true
   },
   "outputs": [],
   "source": [
    "model.compile(optimizer='adagrad',\n",
    "              loss='binary_crossentropy',\n",
    "              metrics=['accuracy'])"
   ]
  },
  {
   "cell_type": "code",
   "execution_count": 10,
   "metadata": {},
   "outputs": [
    {
     "name": "stdout",
     "output_type": "stream",
     "text": [
      "Train on 86965 samples, validate on 12300 samples\n",
      "Epoch 1/10\n",
      "86965/86965 [==============================] - 2s - loss: 0.2045 - acc: 0.9136 - val_loss: 0.1715 - val_acc: 0.9288\n",
      "Epoch 2/10\n",
      "86965/86965 [==============================] - 2s - loss: 0.1727 - acc: 0.9278 - val_loss: 0.1660 - val_acc: 0.9306\n",
      "Epoch 3/10\n",
      "86965/86965 [==============================] - 2s - loss: 0.1579 - acc: 0.9344 - val_loss: 0.1493 - val_acc: 0.9406\n",
      "Epoch 4/10\n",
      "86965/86965 [==============================] - 2s - loss: 0.1452 - acc: 0.9397 - val_loss: 0.1518 - val_acc: 0.9360\n",
      "Epoch 5/10\n",
      "86965/86965 [==============================] - 2s - loss: 0.1347 - acc: 0.9450 - val_loss: 0.1331 - val_acc: 0.9446\n",
      "Epoch 6/10\n",
      "86965/86965 [==============================] - 2s - loss: 0.1281 - acc: 0.9474 - val_loss: 0.1358 - val_acc: 0.9416\n",
      "Epoch 7/10\n",
      "86965/86965 [==============================] - 2s - loss: 0.1220 - acc: 0.9499 - val_loss: 0.1285 - val_acc: 0.9472\n",
      "Epoch 8/10\n",
      "86965/86965 [==============================] - 2s - loss: 0.1166 - acc: 0.9522 - val_loss: 0.1420 - val_acc: 0.9384\n",
      "Epoch 9/10\n",
      "86965/86965 [==============================] - 2s - loss: 0.1125 - acc: 0.9538 - val_loss: 0.1246 - val_acc: 0.9481\n",
      "Epoch 10/10\n",
      "86965/86965 [==============================] - 2s - loss: 0.1089 - acc: 0.9551 - val_loss: 0.1202 - val_acc: 0.9493\n"
     ]
    },
    {
     "data": {
      "text/plain": [
       "<keras.callbacks.History at 0x2bb8fe765c0>"
      ]
     },
     "execution_count": 10,
     "metadata": {},
     "output_type": "execute_result"
    }
   ],
   "source": [
    "model.fit(X_train, y_train, epochs=10, batch_size=128, validation_data=(X_VALID, y_VALID), callbacks=[tbCallBack])"
   ]
  },
  {
   "cell_type": "code",
   "execution_count": 11,
   "metadata": {},
   "outputs": [
    {
     "name": "stdout",
     "output_type": "stream",
     "text": [
      "20864/24971 [========================>.....] - ETA: 0s"
     ]
    }
   ],
   "source": [
    "score = model.evaluate(X_TEST, y_TEST, batch_size=128)"
   ]
  },
  {
   "cell_type": "code",
   "execution_count": 12,
   "metadata": {},
   "outputs": [
    {
     "name": "stdout",
     "output_type": "stream",
     "text": [
      "['loss', 'acc']\n",
      "[0.12473110240260869, 0.94878058547915578]\n"
     ]
    }
   ],
   "source": [
    "print(model.metrics_names)\n",
    "print(score)"
   ]
  },
  {
   "cell_type": "code",
   "execution_count": 13,
   "metadata": {
    "collapsed": true
   },
   "outputs": [],
   "source": [
    "# from keras.utils import plot_model\n",
    "# plot_model(model, to_file='model.png')"
   ]
  },
  {
   "cell_type": "code",
   "execution_count": 14,
   "metadata": {
    "collapsed": true
   },
   "outputs": [],
   "source": [
    "model.save(\"predictingMatchesNN.h5\")"
   ]
  },
  {
   "cell_type": "code",
   "execution_count": null,
   "metadata": {
    "collapsed": true
   },
   "outputs": [],
   "source": []
  },
  {
   "cell_type": "code",
   "execution_count": 15,
   "metadata": {
    "collapsed": true
   },
   "outputs": [],
   "source": [
    "#from sklearn.metrics import confusion_matrix, classification_report"
   ]
  },
  {
   "cell_type": "code",
   "execution_count": 16,
   "metadata": {},
   "outputs": [],
   "source": [
    "#y_test_predict = model.predict(X_TEST, batch_size=128, verbose=1)"
   ]
  },
  {
   "cell_type": "code",
   "execution_count": 17,
   "metadata": {},
   "outputs": [],
   "source": [
    "#print(y_test_predict, y_test)"
   ]
  },
  {
   "cell_type": "code",
   "execution_count": 18,
   "metadata": {
    "collapsed": true
   },
   "outputs": [],
   "source": [
    "# y_prob_to_class = []\n",
    "# for each_value in y_test_predict:\n",
    "#     if each_value[0] < 0.5:\n",
    "#         y_prob_to_class.append(0)\n",
    "#     else:\n",
    "#         y_prob_to_class.append(1)"
   ]
  },
  {
   "cell_type": "code",
   "execution_count": 19,
   "metadata": {},
   "outputs": [],
   "source": [
    "# import seaborn as sb\n",
    "\n",
    "# cm = confusion_matrix(y_prob_to_class, y_TEST)\n",
    "# print(cm)"
   ]
  },
  {
   "cell_type": "code",
   "execution_count": 20,
   "metadata": {},
   "outputs": [],
   "source": [
    "# sb.heatmap(cm, annot=True, cmap=\"Blues\", xticklabels=['yes', 'no'], yticklabels=['yes', 'no'])\n",
    "# plt.ylabel(\"True Label\")\n",
    "# plt.xlabel(\"Predicted Label\")\n",
    "# plt.title(\"Confusion matrix for KerasNN\")\n",
    "# plt.figtext(x=0.4, y=-0.02, s = \"figure 4\")"
   ]
  },
  {
   "cell_type": "code",
   "execution_count": 21,
   "metadata": {},
   "outputs": [],
   "source": [
    "# print(classification_report(y_prob_to_class, y_TEST))"
   ]
  },
  {
   "cell_type": "code",
   "execution_count": 22,
   "metadata": {
    "collapsed": true
   },
   "outputs": [],
   "source": [
    "# train_acc = pd.read_csv(\"training_acc.csv\")\n",
    "# train_loss = pd.read_csv(\"training_loss.csv\")\n",
    "# valid_acc = pd.read_csv(\"valid_acc.csv\")\n",
    "# valid_loss = pd.read_csv(\"valid_loss.csv\")"
   ]
  },
  {
   "cell_type": "code",
   "execution_count": 23,
   "metadata": {
    "collapsed": true
   },
   "outputs": [],
   "source": [
    "# train_acc.drop([\"Wall time\", \"Step\"], axis=1, inplace=True)\n",
    "# train_loss.drop([\"Wall time\", \"Step\"], axis=1, inplace=True)\n",
    "# valid_acc.drop([\"Wall time\", \"Step\"], axis=1, inplace=True)\n",
    "# valid_loss.drop([\"Wall time\", \"Step\"], axis=1, inplace=True)"
   ]
  },
  {
   "cell_type": "code",
   "execution_count": 24,
   "metadata": {
    "collapsed": true
   },
   "outputs": [],
   "source": [
    "# print(train_acc)\n",
    "# print(train_loss)\n",
    "# print(valid_acc)\n",
    "# print(valid_loss)"
   ]
  },
  {
   "cell_type": "code",
   "execution_count": 25,
   "metadata": {},
   "outputs": [],
   "source": [
    "# train_acc.columns = [\"Training Accuracy\"]\n",
    "# ax = train_acc.plot()\n",
    "# train_loss.plot(ax=ax)\n",
    "# plt.title(\"Loss and Accuracy for training data\")\n",
    "# plt.xlabel(\"Epochs\")\n",
    "# plt.figtext(x=0.47, y=-0.02, s = \"figure 5\")"
   ]
  },
  {
   "cell_type": "code",
   "execution_count": 26,
   "metadata": {},
   "outputs": [],
   "source": [
    "# valid_acc.columns = [\"Validation Accuracy\"]\n",
    "# axs = valid_acc.plot()\n",
    "# valid_loss.plot(ax=axs)\n",
    "# plt.title(\"Loss and Accuracy for Validation data\")\n",
    "# plt.xlabel(\"Epochs\")\n",
    "# plt.figtext(x=0.47, y=-0.02, s = \"figure 6\")"
   ]
  }
 ],
 "metadata": {
  "kernelspec": {
   "display_name": "Python 3",
   "language": "python",
   "name": "python3"
  },
  "language_info": {
   "codemirror_mode": {
    "name": "ipython",
    "version": 3
   },
   "file_extension": ".py",
   "mimetype": "text/x-python",
   "name": "python",
   "nbconvert_exporter": "python",
   "pygments_lexer": "ipython3",
   "version": "3.5.3"
  }
 },
 "nbformat": 4,
 "nbformat_minor": 2
}
